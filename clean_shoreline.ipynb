{
 "cells": [
  {
   "cell_type": "code",
   "execution_count": 24,
   "metadata": {},
   "outputs": [
    {
     "data": {
      "text/html": [
       "<div>\n",
       "<style scoped>\n",
       "    .dataframe tbody tr th:only-of-type {\n",
       "        vertical-align: middle;\n",
       "    }\n",
       "\n",
       "    .dataframe tbody tr th {\n",
       "        vertical-align: top;\n",
       "    }\n",
       "\n",
       "    .dataframe thead th {\n",
       "        text-align: right;\n",
       "    }\n",
       "</style>\n",
       "<table border=\"1\" class=\"dataframe\">\n",
       "  <thead>\n",
       "    <tr style=\"text-align: right;\">\n",
       "      <th></th>\n",
       "      <th>Unnamed: 0</th>\n",
       "      <th>price</th>\n",
       "      <th>timestamp</th>\n",
       "      <th>name</th>\n",
       "    </tr>\n",
       "  </thead>\n",
       "  <tbody>\n",
       "    <tr>\n",
       "      <th>0</th>\n",
       "      <td>0</td>\n",
       "      <td>88888</td>\n",
       "      <td>2021-12-14 08:18:00</td>\n",
       "      <td>213</td>\n",
       "    </tr>\n",
       "    <tr>\n",
       "      <th>1</th>\n",
       "      <td>1</td>\n",
       "      <td>90000</td>\n",
       "      <td>2021-12-14 08:18:00</td>\n",
       "      <td>213</td>\n",
       "    </tr>\n",
       "    <tr>\n",
       "      <th>2</th>\n",
       "      <td>2</td>\n",
       "      <td>99999</td>\n",
       "      <td>2021-12-14 08:18:00</td>\n",
       "      <td>213</td>\n",
       "    </tr>\n",
       "    <tr>\n",
       "      <th>3</th>\n",
       "      <td>3</td>\n",
       "      <td>100000</td>\n",
       "      <td>2021-12-14 08:18:00</td>\n",
       "      <td>213</td>\n",
       "    </tr>\n",
       "    <tr>\n",
       "      <th>4</th>\n",
       "      <td>4</td>\n",
       "      <td>155555</td>\n",
       "      <td>2021-12-14 08:18:00</td>\n",
       "      <td>213</td>\n",
       "    </tr>\n",
       "    <tr>\n",
       "      <th>...</th>\n",
       "      <td>...</td>\n",
       "      <td>...</td>\n",
       "      <td>...</td>\n",
       "      <td>...</td>\n",
       "    </tr>\n",
       "    <tr>\n",
       "      <th>95849</th>\n",
       "      <td>95849</td>\n",
       "      <td>600000</td>\n",
       "      <td>2022-01-03 19:14:50</td>\n",
       "      <td>blue tape</td>\n",
       "    </tr>\n",
       "    <tr>\n",
       "      <th>95850</th>\n",
       "      <td>95850</td>\n",
       "      <td>615000</td>\n",
       "      <td>2022-01-03 19:14:50</td>\n",
       "      <td>blue tape</td>\n",
       "    </tr>\n",
       "    <tr>\n",
       "      <th>95851</th>\n",
       "      <td>95851</td>\n",
       "      <td>630000</td>\n",
       "      <td>2022-01-03 19:14:50</td>\n",
       "      <td>blue tape</td>\n",
       "    </tr>\n",
       "    <tr>\n",
       "      <th>95852</th>\n",
       "      <td>95852</td>\n",
       "      <td>633333</td>\n",
       "      <td>2022-01-03 19:14:50</td>\n",
       "      <td>blue tape</td>\n",
       "    </tr>\n",
       "    <tr>\n",
       "      <th>95853</th>\n",
       "      <td>95853</td>\n",
       "      <td>640000</td>\n",
       "      <td>2022-01-03 19:14:50</td>\n",
       "      <td>blue tape</td>\n",
       "    </tr>\n",
       "  </tbody>\n",
       "</table>\n",
       "<p>95854 rows × 4 columns</p>\n",
       "</div>"
      ],
      "text/plain": [
       "       Unnamed: 0   price            timestamp       name\n",
       "0               0   88888  2021-12-14 08:18:00        213\n",
       "1               1   90000  2021-12-14 08:18:00        213\n",
       "2               2   99999  2021-12-14 08:18:00        213\n",
       "3               3  100000  2021-12-14 08:18:00        213\n",
       "4               4  155555  2021-12-14 08:18:00        213\n",
       "...           ...     ...                  ...        ...\n",
       "95849       95849  600000  2022-01-03 19:14:50  blue tape\n",
       "95850       95850  615000  2022-01-03 19:14:50  blue tape\n",
       "95851       95851  630000  2022-01-03 19:14:50  blue tape\n",
       "95852       95852  633333  2022-01-03 19:14:50  blue tape\n",
       "95853       95853  640000  2022-01-03 19:14:50  blue tape\n",
       "\n",
       "[95854 rows x 4 columns]"
      ]
     },
     "execution_count": 24,
     "metadata": {},
     "output_type": "execute_result"
    }
   ],
   "source": [
    "import pandas as pd\n",
    "\n",
    "df = pd.read_csv('shoreline.csv')\n",
    "df"
   ]
  },
  {
   "cell_type": "code",
   "execution_count": 25,
   "metadata": {},
   "outputs": [
    {
     "data": {
      "text/plain": [
       "array(['213', '221', '104', '219', '108', '220', '206', '205', '322',\n",
       "       '309', '321 safe', '222', '323', '328', '314', '301', '325', '207',\n",
       "       '303', '209', 'utility room', '306', '203', '216', '218', '112',\n",
       "       '310', '308', '313', 'warehouse safe', 'blue tape', '316',\n",
       "       'office safe', '226', '107', 'Shoreline plan map'], dtype=object)"
      ]
     },
     "execution_count": 25,
     "metadata": {},
     "output_type": "execute_result"
    }
   ],
   "source": [
    "df['name'] = df['name'].str.replace('Health Resort ','')\n",
    "df['name'] = df['name'].str.replace('west wing room ','')\n",
    "df['name'] = df['name'].str.replace('east wing room ','')\n",
    "df['name'] = df['name'].str.replace('west wing office room ','')\n",
    "df['name'] = df['name'].str.replace('east wing office room ','')\n",
    "df['name'] = df['name'].str.replace('universal ','')\n",
    "df['name'] = df['name'].str.replace('west wing office room ','')\n",
    "df['name'] = df['name'].str.replace('management ','')\n",
    "df['name'] = df['name'].str.replace('office key with a ','')\n",
    "df['name'] = df['name'].str.replace('east wing office room ','')\n",
    "df['name'] = df['name'].str.replace(' key','')\n",
    "\n",
    "df['name'].unique()"
   ]
  },
  {
   "cell_type": "code",
   "execution_count": null,
   "metadata": {},
   "outputs": [],
   "source": []
  }
 ],
 "metadata": {
  "interpreter": {
   "hash": "cfb9e019b07df9b691b646356990c3dfe2583de88c1684d71b8ff56737201512"
  },
  "kernelspec": {
   "display_name": "Python 3.9.6 64-bit ('venv': venv)",
   "language": "python",
   "name": "python3"
  },
  "language_info": {
   "codemirror_mode": {
    "name": "ipython",
    "version": 3
   },
   "file_extension": ".py",
   "mimetype": "text/x-python",
   "name": "python",
   "nbconvert_exporter": "python",
   "pygments_lexer": "ipython3",
   "version": "3.9.6"
  },
  "orig_nbformat": 4
 },
 "nbformat": 4,
 "nbformat_minor": 2
}
